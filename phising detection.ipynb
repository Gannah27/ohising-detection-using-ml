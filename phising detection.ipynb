{
 "cells": [
  {
   "cell_type": "code",
   "execution_count": 49,
   "id": "db6ceaf3",
   "metadata": {},
   "outputs": [],
   "source": [
    "import pandas as pd\n",
    "import sklearn\n",
    "from sklearn.model_selection import train_test_split\n",
    "from sklearn import preprocessing\n",
    "from sklearn.metrics import confusion_matrix\n",
    "from sklearn.metrics import accuracy_score\n",
    "from sklearn.metrics import classification_report\n",
    "from sklearn.model_selection import KFold\n",
    "from sklearn.tree import DecisionTreeClassifier\n",
    "from sklearn.model_selection import cross_validate\n",
    "from sklearn.neural_network import MLPClassifier\n",
    "from sklearn.neighbors import KNeighborsClassifier\n",
    "from sklearn.ensemble import RandomForestClassifier\n",
    "from sklearn import svm , preprocessing\n",
    "from sklearn.ensemble import AdaBoostClassifier\n",
    "from sklearn.linear_model import LogisticRegression\n",
    "from sklearn.ensemble import GradientBoostingClassifier\n",
    "from xgboost import XGBClassifier\n",
    "from sklearn.ensemble import GradientBoostingClassifier\n",
    "from sklearn.experimental import enable_hist_gradient_boosting\n",
    "from sklearn.ensemble import HistGradientBoostingClassifier\n",
    "from lightgbm import LGBMClassifier\n",
    "from catboost import CatBoostClassifier\n",
    "import seaborn as sns\n",
    "import matplotlib.pyplot as plt"
   ]
  },
  {
   "cell_type": "code",
   "execution_count": 39,
   "id": "3934bbe9",
   "metadata": {},
   "outputs": [],
   "source": [
    "def meanResult(scoring):\n",
    "    return {i:j.mean() for i,j in scoring.items()}"
   ]
  },
  {
   "cell_type": "markdown",
   "id": "05c71fd7",
   "metadata": {},
   "source": [
    "# Loading the datset"
   ]
  },
  {
   "cell_type": "code",
   "execution_count": 40,
   "id": "8bb323c1",
   "metadata": {},
   "outputs": [],
   "source": [
    "data = pd.read_csv(\"dataset.csv\",index_col=0)"
   ]
  },
  {
   "cell_type": "markdown",
   "id": "046dd33c",
   "metadata": {},
   "source": [
    "# Preprocessing of data"
   ]
  },
  {
   "cell_type": "code",
   "execution_count": 41,
   "id": "a7f6bf46",
   "metadata": {},
   "outputs": [
    {
     "name": "stdout",
     "output_type": "stream",
     "text": [
      "<class 'pandas.core.frame.DataFrame'>\n",
      "Int64Index: 11055 entries, 1 to 11055\n",
      "Data columns (total 31 columns):\n",
      " #   Column                       Non-Null Count  Dtype\n",
      "---  ------                       --------------  -----\n",
      " 0   having_IPhaving_IP_Address   11055 non-null  int32\n",
      " 1   URLURL_Length                11055 non-null  int32\n",
      " 2   Shortining_Service           11055 non-null  int32\n",
      " 3   having_At_Symbol             11055 non-null  int32\n",
      " 4   double_slash_redirecting     11055 non-null  int32\n",
      " 5   Prefix_Suffix                11055 non-null  int32\n",
      " 6   having_Sub_Domain            11055 non-null  int32\n",
      " 7   SSLfinal_State               11055 non-null  int32\n",
      " 8   Domain_registeration_length  11055 non-null  int32\n",
      " 9   Favicon                      11055 non-null  int32\n",
      " 10  port                         11055 non-null  int32\n",
      " 11  HTTPS_token                  11055 non-null  int32\n",
      " 12  Request_URL                  11055 non-null  int32\n",
      " 13  URL_of_Anchor                11055 non-null  int32\n",
      " 14  Links_in_tags                11055 non-null  int32\n",
      " 15  SFH                          11055 non-null  int32\n",
      " 16  Submitting_to_email          11055 non-null  int32\n",
      " 17  Abnormal_URL                 11055 non-null  int32\n",
      " 18  Redirect                     11055 non-null  int32\n",
      " 19  on_mouseover                 11055 non-null  int32\n",
      " 20  RightClick                   11055 non-null  int32\n",
      " 21  popUpWidnow                  11055 non-null  int32\n",
      " 22  Iframe                       11055 non-null  int32\n",
      " 23  age_of_domain                11055 non-null  int32\n",
      " 24  DNSRecord                    11055 non-null  int32\n",
      " 25  web_traffic                  11055 non-null  int32\n",
      " 26  Page_Rank                    11055 non-null  int32\n",
      " 27  Google_Index                 11055 non-null  int32\n",
      " 28  Links_pointing_to_page       11055 non-null  int32\n",
      " 29  Statistical_report           11055 non-null  int32\n",
      " 30  Result                       11055 non-null  int32\n",
      "dtypes: int32(31)\n",
      "memory usage: 1.4 MB\n"
     ]
    }
   ],
   "source": [
    "float_cols = data.select_dtypes('float64').columns\n",
    "for c in float_cols:\n",
    "    data[c] = data[c].astype('float32')\n",
    "    \n",
    "int_cols = data.select_dtypes('int64').columns\n",
    "for c in int_cols:\n",
    "    data[c] = data[c].astype('int32')\n",
    "    \n",
    "data.info()"
   ]
  },
  {
   "cell_type": "code",
   "execution_count": 72,
   "id": "44f972e7",
   "metadata": {},
   "outputs": [],
   "source": [
    "data.rename(columns={'Result': 'labels'}, inplace=True)"
   ]
  },
  {
   "cell_type": "markdown",
   "id": "5a806e91",
   "metadata": {},
   "source": [
    "# Viewing the data"
   ]
  },
  {
   "cell_type": "code",
   "execution_count": 73,
   "id": "808471f5",
   "metadata": {},
   "outputs": [
    {
     "data": {
      "text/html": [
       "<div>\n",
       "<style scoped>\n",
       "    .dataframe tbody tr th:only-of-type {\n",
       "        vertical-align: middle;\n",
       "    }\n",
       "\n",
       "    .dataframe tbody tr th {\n",
       "        vertical-align: top;\n",
       "    }\n",
       "\n",
       "    .dataframe thead th {\n",
       "        text-align: right;\n",
       "    }\n",
       "</style>\n",
       "<table border=\"1\" class=\"dataframe\">\n",
       "  <thead>\n",
       "    <tr style=\"text-align: right;\">\n",
       "      <th></th>\n",
       "      <th>having_IPhaving_IP_Address</th>\n",
       "      <th>URLURL_Length</th>\n",
       "      <th>Shortining_Service</th>\n",
       "      <th>having_At_Symbol</th>\n",
       "      <th>double_slash_redirecting</th>\n",
       "      <th>Prefix_Suffix</th>\n",
       "      <th>having_Sub_Domain</th>\n",
       "      <th>SSLfinal_State</th>\n",
       "      <th>Domain_registeration_length</th>\n",
       "      <th>Favicon</th>\n",
       "      <th>...</th>\n",
       "      <th>popUpWidnow</th>\n",
       "      <th>Iframe</th>\n",
       "      <th>age_of_domain</th>\n",
       "      <th>DNSRecord</th>\n",
       "      <th>web_traffic</th>\n",
       "      <th>Page_Rank</th>\n",
       "      <th>Google_Index</th>\n",
       "      <th>Links_pointing_to_page</th>\n",
       "      <th>Statistical_report</th>\n",
       "      <th>labels</th>\n",
       "    </tr>\n",
       "    <tr>\n",
       "      <th>index</th>\n",
       "      <th></th>\n",
       "      <th></th>\n",
       "      <th></th>\n",
       "      <th></th>\n",
       "      <th></th>\n",
       "      <th></th>\n",
       "      <th></th>\n",
       "      <th></th>\n",
       "      <th></th>\n",
       "      <th></th>\n",
       "      <th></th>\n",
       "      <th></th>\n",
       "      <th></th>\n",
       "      <th></th>\n",
       "      <th></th>\n",
       "      <th></th>\n",
       "      <th></th>\n",
       "      <th></th>\n",
       "      <th></th>\n",
       "      <th></th>\n",
       "      <th></th>\n",
       "    </tr>\n",
       "  </thead>\n",
       "  <tbody>\n",
       "    <tr>\n",
       "      <th>1775</th>\n",
       "      <td>1</td>\n",
       "      <td>-1</td>\n",
       "      <td>1</td>\n",
       "      <td>1</td>\n",
       "      <td>1</td>\n",
       "      <td>-1</td>\n",
       "      <td>0</td>\n",
       "      <td>1</td>\n",
       "      <td>-1</td>\n",
       "      <td>1</td>\n",
       "      <td>...</td>\n",
       "      <td>1</td>\n",
       "      <td>1</td>\n",
       "      <td>-1</td>\n",
       "      <td>1</td>\n",
       "      <td>1</td>\n",
       "      <td>1</td>\n",
       "      <td>1</td>\n",
       "      <td>0</td>\n",
       "      <td>1</td>\n",
       "      <td>1</td>\n",
       "    </tr>\n",
       "    <tr>\n",
       "      <th>4314</th>\n",
       "      <td>1</td>\n",
       "      <td>-1</td>\n",
       "      <td>1</td>\n",
       "      <td>1</td>\n",
       "      <td>1</td>\n",
       "      <td>-1</td>\n",
       "      <td>0</td>\n",
       "      <td>1</td>\n",
       "      <td>1</td>\n",
       "      <td>1</td>\n",
       "      <td>...</td>\n",
       "      <td>1</td>\n",
       "      <td>1</td>\n",
       "      <td>-1</td>\n",
       "      <td>-1</td>\n",
       "      <td>0</td>\n",
       "      <td>-1</td>\n",
       "      <td>1</td>\n",
       "      <td>0</td>\n",
       "      <td>1</td>\n",
       "      <td>-1</td>\n",
       "    </tr>\n",
       "    <tr>\n",
       "      <th>4343</th>\n",
       "      <td>1</td>\n",
       "      <td>-1</td>\n",
       "      <td>1</td>\n",
       "      <td>1</td>\n",
       "      <td>1</td>\n",
       "      <td>-1</td>\n",
       "      <td>0</td>\n",
       "      <td>-1</td>\n",
       "      <td>-1</td>\n",
       "      <td>-1</td>\n",
       "      <td>...</td>\n",
       "      <td>-1</td>\n",
       "      <td>-1</td>\n",
       "      <td>-1</td>\n",
       "      <td>1</td>\n",
       "      <td>-1</td>\n",
       "      <td>-1</td>\n",
       "      <td>1</td>\n",
       "      <td>0</td>\n",
       "      <td>-1</td>\n",
       "      <td>-1</td>\n",
       "    </tr>\n",
       "    <tr>\n",
       "      <th>7336</th>\n",
       "      <td>-1</td>\n",
       "      <td>-1</td>\n",
       "      <td>1</td>\n",
       "      <td>1</td>\n",
       "      <td>1</td>\n",
       "      <td>-1</td>\n",
       "      <td>1</td>\n",
       "      <td>0</td>\n",
       "      <td>1</td>\n",
       "      <td>1</td>\n",
       "      <td>...</td>\n",
       "      <td>1</td>\n",
       "      <td>1</td>\n",
       "      <td>-1</td>\n",
       "      <td>1</td>\n",
       "      <td>-1</td>\n",
       "      <td>1</td>\n",
       "      <td>1</td>\n",
       "      <td>1</td>\n",
       "      <td>1</td>\n",
       "      <td>-1</td>\n",
       "    </tr>\n",
       "    <tr>\n",
       "      <th>1473</th>\n",
       "      <td>1</td>\n",
       "      <td>-1</td>\n",
       "      <td>1</td>\n",
       "      <td>1</td>\n",
       "      <td>1</td>\n",
       "      <td>-1</td>\n",
       "      <td>-1</td>\n",
       "      <td>-1</td>\n",
       "      <td>-1</td>\n",
       "      <td>1</td>\n",
       "      <td>...</td>\n",
       "      <td>1</td>\n",
       "      <td>1</td>\n",
       "      <td>-1</td>\n",
       "      <td>1</td>\n",
       "      <td>-1</td>\n",
       "      <td>-1</td>\n",
       "      <td>1</td>\n",
       "      <td>0</td>\n",
       "      <td>1</td>\n",
       "      <td>-1</td>\n",
       "    </tr>\n",
       "  </tbody>\n",
       "</table>\n",
       "<p>5 rows × 31 columns</p>\n",
       "</div>"
      ],
      "text/plain": [
       "       having_IPhaving_IP_Address  URLURL_Length  Shortining_Service  \\\n",
       "index                                                                  \n",
       "1775                            1             -1                   1   \n",
       "4314                            1             -1                   1   \n",
       "4343                            1             -1                   1   \n",
       "7336                           -1             -1                   1   \n",
       "1473                            1             -1                   1   \n",
       "\n",
       "       having_At_Symbol  double_slash_redirecting  Prefix_Suffix  \\\n",
       "index                                                              \n",
       "1775                  1                         1             -1   \n",
       "4314                  1                         1             -1   \n",
       "4343                  1                         1             -1   \n",
       "7336                  1                         1             -1   \n",
       "1473                  1                         1             -1   \n",
       "\n",
       "       having_Sub_Domain  SSLfinal_State  Domain_registeration_length  \\\n",
       "index                                                                   \n",
       "1775                   0               1                           -1   \n",
       "4314                   0               1                            1   \n",
       "4343                   0              -1                           -1   \n",
       "7336                   1               0                            1   \n",
       "1473                  -1              -1                           -1   \n",
       "\n",
       "       Favicon  ...  popUpWidnow  Iframe  age_of_domain  DNSRecord  \\\n",
       "index           ...                                                  \n",
       "1775         1  ...            1       1             -1          1   \n",
       "4314         1  ...            1       1             -1         -1   \n",
       "4343        -1  ...           -1      -1             -1          1   \n",
       "7336         1  ...            1       1             -1          1   \n",
       "1473         1  ...            1       1             -1          1   \n",
       "\n",
       "       web_traffic  Page_Rank  Google_Index  Links_pointing_to_page  \\\n",
       "index                                                                 \n",
       "1775             1          1             1                       0   \n",
       "4314             0         -1             1                       0   \n",
       "4343            -1         -1             1                       0   \n",
       "7336            -1          1             1                       1   \n",
       "1473            -1         -1             1                       0   \n",
       "\n",
       "       Statistical_report  labels  \n",
       "index                              \n",
       "1775                    1       1  \n",
       "4314                    1      -1  \n",
       "4343                   -1      -1  \n",
       "7336                    1      -1  \n",
       "1473                    1      -1  \n",
       "\n",
       "[5 rows x 31 columns]"
      ]
     },
     "execution_count": 73,
     "metadata": {},
     "output_type": "execute_result"
    }
   ],
   "source": [
    "data.sample(5)"
   ]
  },
  {
   "cell_type": "code",
   "execution_count": 74,
   "id": "5edb863b",
   "metadata": {},
   "outputs": [
    {
     "data": {
      "text/html": [
       "<div>\n",
       "<style scoped>\n",
       "    .dataframe tbody tr th:only-of-type {\n",
       "        vertical-align: middle;\n",
       "    }\n",
       "\n",
       "    .dataframe tbody tr th {\n",
       "        vertical-align: top;\n",
       "    }\n",
       "\n",
       "    .dataframe thead th {\n",
       "        text-align: right;\n",
       "    }\n",
       "</style>\n",
       "<table border=\"1\" class=\"dataframe\">\n",
       "  <thead>\n",
       "    <tr style=\"text-align: right;\">\n",
       "      <th></th>\n",
       "      <th>having_IPhaving_IP_Address</th>\n",
       "      <th>URLURL_Length</th>\n",
       "      <th>Shortining_Service</th>\n",
       "      <th>having_At_Symbol</th>\n",
       "      <th>double_slash_redirecting</th>\n",
       "      <th>Prefix_Suffix</th>\n",
       "      <th>having_Sub_Domain</th>\n",
       "      <th>SSLfinal_State</th>\n",
       "      <th>Domain_registeration_length</th>\n",
       "      <th>Favicon</th>\n",
       "      <th>...</th>\n",
       "      <th>popUpWidnow</th>\n",
       "      <th>Iframe</th>\n",
       "      <th>age_of_domain</th>\n",
       "      <th>DNSRecord</th>\n",
       "      <th>web_traffic</th>\n",
       "      <th>Page_Rank</th>\n",
       "      <th>Google_Index</th>\n",
       "      <th>Links_pointing_to_page</th>\n",
       "      <th>Statistical_report</th>\n",
       "      <th>labels</th>\n",
       "    </tr>\n",
       "  </thead>\n",
       "  <tbody>\n",
       "    <tr>\n",
       "      <th>count</th>\n",
       "      <td>11055.000000</td>\n",
       "      <td>11055.000000</td>\n",
       "      <td>11055.000000</td>\n",
       "      <td>11055.000000</td>\n",
       "      <td>11055.000000</td>\n",
       "      <td>11055.000000</td>\n",
       "      <td>11055.000000</td>\n",
       "      <td>11055.000000</td>\n",
       "      <td>11055.000000</td>\n",
       "      <td>11055.000000</td>\n",
       "      <td>...</td>\n",
       "      <td>11055.000000</td>\n",
       "      <td>11055.000000</td>\n",
       "      <td>11055.000000</td>\n",
       "      <td>11055.000000</td>\n",
       "      <td>11055.000000</td>\n",
       "      <td>11055.000000</td>\n",
       "      <td>11055.000000</td>\n",
       "      <td>11055.000000</td>\n",
       "      <td>11055.000000</td>\n",
       "      <td>11055.000000</td>\n",
       "    </tr>\n",
       "    <tr>\n",
       "      <th>mean</th>\n",
       "      <td>0.313795</td>\n",
       "      <td>-0.633198</td>\n",
       "      <td>0.738761</td>\n",
       "      <td>0.700588</td>\n",
       "      <td>0.741474</td>\n",
       "      <td>-0.734962</td>\n",
       "      <td>0.063953</td>\n",
       "      <td>0.250927</td>\n",
       "      <td>-0.336771</td>\n",
       "      <td>0.628584</td>\n",
       "      <td>...</td>\n",
       "      <td>0.613388</td>\n",
       "      <td>0.816915</td>\n",
       "      <td>0.061239</td>\n",
       "      <td>0.377114</td>\n",
       "      <td>0.287291</td>\n",
       "      <td>-0.483673</td>\n",
       "      <td>0.721574</td>\n",
       "      <td>0.344007</td>\n",
       "      <td>0.719584</td>\n",
       "      <td>0.113885</td>\n",
       "    </tr>\n",
       "    <tr>\n",
       "      <th>std</th>\n",
       "      <td>0.949534</td>\n",
       "      <td>0.766095</td>\n",
       "      <td>0.673998</td>\n",
       "      <td>0.713598</td>\n",
       "      <td>0.671011</td>\n",
       "      <td>0.678139</td>\n",
       "      <td>0.817518</td>\n",
       "      <td>0.911892</td>\n",
       "      <td>0.941629</td>\n",
       "      <td>0.777777</td>\n",
       "      <td>...</td>\n",
       "      <td>0.789818</td>\n",
       "      <td>0.576784</td>\n",
       "      <td>0.998168</td>\n",
       "      <td>0.926209</td>\n",
       "      <td>0.827733</td>\n",
       "      <td>0.875289</td>\n",
       "      <td>0.692369</td>\n",
       "      <td>0.569944</td>\n",
       "      <td>0.694437</td>\n",
       "      <td>0.993539</td>\n",
       "    </tr>\n",
       "    <tr>\n",
       "      <th>min</th>\n",
       "      <td>-1.000000</td>\n",
       "      <td>-1.000000</td>\n",
       "      <td>-1.000000</td>\n",
       "      <td>-1.000000</td>\n",
       "      <td>-1.000000</td>\n",
       "      <td>-1.000000</td>\n",
       "      <td>-1.000000</td>\n",
       "      <td>-1.000000</td>\n",
       "      <td>-1.000000</td>\n",
       "      <td>-1.000000</td>\n",
       "      <td>...</td>\n",
       "      <td>-1.000000</td>\n",
       "      <td>-1.000000</td>\n",
       "      <td>-1.000000</td>\n",
       "      <td>-1.000000</td>\n",
       "      <td>-1.000000</td>\n",
       "      <td>-1.000000</td>\n",
       "      <td>-1.000000</td>\n",
       "      <td>-1.000000</td>\n",
       "      <td>-1.000000</td>\n",
       "      <td>-1.000000</td>\n",
       "    </tr>\n",
       "    <tr>\n",
       "      <th>25%</th>\n",
       "      <td>-1.000000</td>\n",
       "      <td>-1.000000</td>\n",
       "      <td>1.000000</td>\n",
       "      <td>1.000000</td>\n",
       "      <td>1.000000</td>\n",
       "      <td>-1.000000</td>\n",
       "      <td>-1.000000</td>\n",
       "      <td>-1.000000</td>\n",
       "      <td>-1.000000</td>\n",
       "      <td>1.000000</td>\n",
       "      <td>...</td>\n",
       "      <td>1.000000</td>\n",
       "      <td>1.000000</td>\n",
       "      <td>-1.000000</td>\n",
       "      <td>-1.000000</td>\n",
       "      <td>0.000000</td>\n",
       "      <td>-1.000000</td>\n",
       "      <td>1.000000</td>\n",
       "      <td>0.000000</td>\n",
       "      <td>1.000000</td>\n",
       "      <td>-1.000000</td>\n",
       "    </tr>\n",
       "    <tr>\n",
       "      <th>50%</th>\n",
       "      <td>1.000000</td>\n",
       "      <td>-1.000000</td>\n",
       "      <td>1.000000</td>\n",
       "      <td>1.000000</td>\n",
       "      <td>1.000000</td>\n",
       "      <td>-1.000000</td>\n",
       "      <td>0.000000</td>\n",
       "      <td>1.000000</td>\n",
       "      <td>-1.000000</td>\n",
       "      <td>1.000000</td>\n",
       "      <td>...</td>\n",
       "      <td>1.000000</td>\n",
       "      <td>1.000000</td>\n",
       "      <td>1.000000</td>\n",
       "      <td>1.000000</td>\n",
       "      <td>1.000000</td>\n",
       "      <td>-1.000000</td>\n",
       "      <td>1.000000</td>\n",
       "      <td>0.000000</td>\n",
       "      <td>1.000000</td>\n",
       "      <td>1.000000</td>\n",
       "    </tr>\n",
       "    <tr>\n",
       "      <th>75%</th>\n",
       "      <td>1.000000</td>\n",
       "      <td>-1.000000</td>\n",
       "      <td>1.000000</td>\n",
       "      <td>1.000000</td>\n",
       "      <td>1.000000</td>\n",
       "      <td>-1.000000</td>\n",
       "      <td>1.000000</td>\n",
       "      <td>1.000000</td>\n",
       "      <td>1.000000</td>\n",
       "      <td>1.000000</td>\n",
       "      <td>...</td>\n",
       "      <td>1.000000</td>\n",
       "      <td>1.000000</td>\n",
       "      <td>1.000000</td>\n",
       "      <td>1.000000</td>\n",
       "      <td>1.000000</td>\n",
       "      <td>1.000000</td>\n",
       "      <td>1.000000</td>\n",
       "      <td>1.000000</td>\n",
       "      <td>1.000000</td>\n",
       "      <td>1.000000</td>\n",
       "    </tr>\n",
       "    <tr>\n",
       "      <th>max</th>\n",
       "      <td>1.000000</td>\n",
       "      <td>1.000000</td>\n",
       "      <td>1.000000</td>\n",
       "      <td>1.000000</td>\n",
       "      <td>1.000000</td>\n",
       "      <td>1.000000</td>\n",
       "      <td>1.000000</td>\n",
       "      <td>1.000000</td>\n",
       "      <td>1.000000</td>\n",
       "      <td>1.000000</td>\n",
       "      <td>...</td>\n",
       "      <td>1.000000</td>\n",
       "      <td>1.000000</td>\n",
       "      <td>1.000000</td>\n",
       "      <td>1.000000</td>\n",
       "      <td>1.000000</td>\n",
       "      <td>1.000000</td>\n",
       "      <td>1.000000</td>\n",
       "      <td>1.000000</td>\n",
       "      <td>1.000000</td>\n",
       "      <td>1.000000</td>\n",
       "    </tr>\n",
       "  </tbody>\n",
       "</table>\n",
       "<p>8 rows × 31 columns</p>\n",
       "</div>"
      ],
      "text/plain": [
       "       having_IPhaving_IP_Address  URLURL_Length  Shortining_Service  \\\n",
       "count                11055.000000   11055.000000        11055.000000   \n",
       "mean                     0.313795      -0.633198            0.738761   \n",
       "std                      0.949534       0.766095            0.673998   \n",
       "min                     -1.000000      -1.000000           -1.000000   \n",
       "25%                     -1.000000      -1.000000            1.000000   \n",
       "50%                      1.000000      -1.000000            1.000000   \n",
       "75%                      1.000000      -1.000000            1.000000   \n",
       "max                      1.000000       1.000000            1.000000   \n",
       "\n",
       "       having_At_Symbol  double_slash_redirecting  Prefix_Suffix  \\\n",
       "count      11055.000000              11055.000000   11055.000000   \n",
       "mean           0.700588                  0.741474      -0.734962   \n",
       "std            0.713598                  0.671011       0.678139   \n",
       "min           -1.000000                 -1.000000      -1.000000   \n",
       "25%            1.000000                  1.000000      -1.000000   \n",
       "50%            1.000000                  1.000000      -1.000000   \n",
       "75%            1.000000                  1.000000      -1.000000   \n",
       "max            1.000000                  1.000000       1.000000   \n",
       "\n",
       "       having_Sub_Domain  SSLfinal_State  Domain_registeration_length  \\\n",
       "count       11055.000000    11055.000000                 11055.000000   \n",
       "mean            0.063953        0.250927                    -0.336771   \n",
       "std             0.817518        0.911892                     0.941629   \n",
       "min            -1.000000       -1.000000                    -1.000000   \n",
       "25%            -1.000000       -1.000000                    -1.000000   \n",
       "50%             0.000000        1.000000                    -1.000000   \n",
       "75%             1.000000        1.000000                     1.000000   \n",
       "max             1.000000        1.000000                     1.000000   \n",
       "\n",
       "            Favicon  ...   popUpWidnow        Iframe  age_of_domain  \\\n",
       "count  11055.000000  ...  11055.000000  11055.000000   11055.000000   \n",
       "mean       0.628584  ...      0.613388      0.816915       0.061239   \n",
       "std        0.777777  ...      0.789818      0.576784       0.998168   \n",
       "min       -1.000000  ...     -1.000000     -1.000000      -1.000000   \n",
       "25%        1.000000  ...      1.000000      1.000000      -1.000000   \n",
       "50%        1.000000  ...      1.000000      1.000000       1.000000   \n",
       "75%        1.000000  ...      1.000000      1.000000       1.000000   \n",
       "max        1.000000  ...      1.000000      1.000000       1.000000   \n",
       "\n",
       "          DNSRecord   web_traffic     Page_Rank  Google_Index  \\\n",
       "count  11055.000000  11055.000000  11055.000000  11055.000000   \n",
       "mean       0.377114      0.287291     -0.483673      0.721574   \n",
       "std        0.926209      0.827733      0.875289      0.692369   \n",
       "min       -1.000000     -1.000000     -1.000000     -1.000000   \n",
       "25%       -1.000000      0.000000     -1.000000      1.000000   \n",
       "50%        1.000000      1.000000     -1.000000      1.000000   \n",
       "75%        1.000000      1.000000      1.000000      1.000000   \n",
       "max        1.000000      1.000000      1.000000      1.000000   \n",
       "\n",
       "       Links_pointing_to_page  Statistical_report        labels  \n",
       "count            11055.000000        11055.000000  11055.000000  \n",
       "mean                 0.344007            0.719584      0.113885  \n",
       "std                  0.569944            0.694437      0.993539  \n",
       "min                 -1.000000           -1.000000     -1.000000  \n",
       "25%                  0.000000            1.000000     -1.000000  \n",
       "50%                  0.000000            1.000000      1.000000  \n",
       "75%                  1.000000            1.000000      1.000000  \n",
       "max                  1.000000            1.000000      1.000000  \n",
       "\n",
       "[8 rows x 31 columns]"
      ]
     },
     "execution_count": 74,
     "metadata": {},
     "output_type": "execute_result"
    }
   ],
   "source": [
    "data.describe()"
   ]
  },
  {
   "cell_type": "code",
   "execution_count": 75,
   "id": "c82c46a0",
   "metadata": {},
   "outputs": [
    {
     "data": {
      "text/plain": [
       "<AxesSubplot:>"
      ]
     },
     "execution_count": 75,
     "metadata": {},
     "output_type": "execute_result"
    },
    {
     "data": {
      "image/png": "[encoded data removed]",
      "text/plain": [
       "<Figure size 432x288 with 1 Axes>"
      ]
     },
     "metadata": {
      "needs_background": "light"
     },
     "output_type": "display_data"
    }
   ],
   "source": [
    "data['labels'].value_counts().plot(kind='bar')"
   ]
  },
  {
   "cell_type": "code",
   "execution_count": 76,
   "id": "772f904a",
   "metadata": {},
   "outputs": [],
   "source": [
    "def corr_heatmap(data, idx_s, idx_e):\n",
    "    y = data['labels']\n",
    "    temp = data.iloc[:, idx_s:idx_e]\n",
    "    if 'index' in temp.columns:\n",
    "        del temp['index']\n",
    "    temp['labels'] = y\n",
    "    sns.heatmap(temp.corr(), annot=True, fmt='.2f')\n",
    "    plt.show()"
   ]
  },
  {
   "cell_type": "code",
   "execution_count": 77,
   "id": "3e7e8cd2",
   "metadata": {
    "scrolled": true
   },
   "outputs": [
    {
     "name": "stderr",
     "output_type": "stream",
     "text": [
      "C:\\Users\\HP\\AppData\\Local\\Temp\\ipykernel_8504\\1252062066.py:6: SettingWithCopyWarning: \n",
      "A value is trying to be set on a copy of a slice from a DataFrame.\n",
      "Try using .loc[row_indexer,col_indexer] = value instead\n",
      "\n",
      "See the caveats in the documentation: https://pandas.pydata.org/pandas-docs/stable/user_guide/indexing.html#returning-a-view-versus-a-copy\n",
      "  temp['labels'] = y\n"
     ]
    },
    {
     "data": {
      "image/png": "[encoded data removed]",
      "text/plain": [
       "<Figure size 432x288 with 2 Axes>"
      ]
     },
     "metadata": {
      "needs_background": "light"
     },
     "output_type": "display_data"
    }
   ],
   "source": [
    "corr_heatmap(data, 20, 30)"
   ]
  },
  {
   "cell_type": "markdown",
   "id": "1ed4a615",
   "metadata": {},
   "source": [
    "# Models"
   ]
  },
  {
   "cell_type": "markdown",
   "id": "dadec717",
   "metadata": {},
   "source": [
    "## Decision tree:"
   ]
  },
  {
   "cell_type": "code",
   "execution_count": 80,
   "id": "2bfa0803",
   "metadata": {},
   "outputs": [
    {
     "name": "stdout",
     "output_type": "stream",
     "text": [
      "{'fit_time': 0.044534921646118164, 'score_time': 0.0073338508605957035, 'test_accuracy': 0.9653531948319737, 'test_recall': 0.9709244008024495, 'test_precision': 0.9670236214974903, 'test_f1': 0.9689545875498622}\n"
     ]
    }
   ],
   "source": [
    "data = sklearn.utils.shuffle(data)\n",
    "X = data.drop(\"labels\",axis=1).values\n",
    "X = preprocessing.scale(X)\n",
    "y = data['labels'].values\n",
    "data.head()\n",
    "output_matrix = {'accuracy': 'accuracy',\n",
    "           'recall': 'recall',\n",
    "           'precision': 'precision',\n",
    "           'f1': 'f1'}\n",
    "fold_count=10\n",
    "dtree_clf=DecisionTreeClassifier()\n",
    "cross_val_scores = cross_validate(dtree_clf, X, y, cv=fold_count, scoring=output_matrix)\n",
    "dtree_score = meanResult(cross_val_scores)\n",
    "print(dtree_score)"
   ]
  },
  {
   "cell_type": "markdown",
   "id": "26cb9bc2",
   "metadata": {},
   "source": [
    "# Random Forest"
   ]
  },
  {
   "cell_type": "code",
   "execution_count": 81,
   "id": "19417e68",
   "metadata": {},
   "outputs": [
    {
     "name": "stdout",
     "output_type": "stream",
     "text": [
      "{'fit_time': 1.185907769203186, 'score_time': 0.055217647552490236, 'test_accuracy': 0.9730434569153854, 'test_recall': 0.9818089430894309, 'test_precision': 0.9702077415957028, 'test_f1': 0.9759488899279247}\n"
     ]
    }
   ],
   "source": [
    "rforest_clf=RandomForestClassifier()\n",
    "cross_val_scores = cross_validate(rforest_clf, X, y, cv=fold_count, scoring=output_matrix)\n",
    "rforest_clf_score = meanResult(cross_val_scores)\n",
    "print(rforest_clf_score)"
   ]
  },
  {
   "cell_type": "markdown",
   "id": "95d725f3",
   "metadata": {},
   "source": [
    "# Ada_booster"
   ]
  },
  {
   "cell_type": "code",
   "execution_count": 84,
   "id": "7f5b7354",
   "metadata": {},
   "outputs": [
    {
     "name": "stdout",
     "output_type": "stream",
     "text": [
      "{'fit_time': 0.43334991931915284, 'score_time': 0.018102073669433595, 'test_accuracy': 0.9376756973480728, 'test_recall': 0.9553378735086053, 'test_precision': 0.9343090901738543, 'test_f1': 0.9446769423482853}\n"
     ]
    }
   ],
   "source": [
    "adaboost_clf=AdaBoostClassifier()\n",
    "cross_val_scores = cross_validate(adaboost_clf, X, y, cv=fold_count, scoring=output_matrix)\n",
    "adaboost_clf_score = meanResult(cross_val_scores)\n",
    "print(adaboost_clf_score)"
   ]
  },
  {
   "cell_type": "markdown",
   "id": "f20fbdab",
   "metadata": {},
   "source": [
    "## Histogram-Based Gradient Boosting\n"
   ]
  },
  {
   "cell_type": "code",
   "execution_count": 87,
   "id": "aa1738f1",
   "metadata": {},
   "outputs": [
    {
     "name": "stdout",
     "output_type": "stream",
     "text": [
      "{'fit_time': 0.9769060134887695, 'score_time': 0.010268855094909667, 'test_accuracy': 0.9687918633860555, 'test_recall': 0.9766114982578398, 'test_precision': 0.9677069624065011, 'test_f1': 0.9721182979563547}\n"
     ]
    }
   ],
   "source": [
    "histGradientBooster_clf = HistGradientBoostingClassifier()\n",
    "cross_val_scores = cross_validate(histGradientBooster_clf,X, y, cv=fold_count, scoring=output_matrix)\n",
    "histGradientBooster_clf_score= meanResult(cross_val_scores)\n",
    "print(histGradientBooster_clf_score)"
   ]
  },
  {
   "cell_type": "markdown",
   "id": "c1ff45f8",
   "metadata": {},
   "source": [
    "## Gradient Boosting With XGBoost"
   ]
  },
  {
   "cell_type": "code",
   "execution_count": 91,
   "id": "3dc11b37",
   "metadata": {},
   "outputs": [
    {
     "name": "stdout",
     "output_type": "stream",
     "text": [
      "{'fit_time': 1.0690820932388305, 'score_time': 0.010296034812927245, 'test_accuracy': 0.9493436050174695, 'test_recall': 0.9632918910357933, 'test_precision': 0.9467283099997965, 'test_f1': 0.954923202607674}\n"
     ]
    }
   ],
   "source": [
    "gradientBooster_clf=GradientBoostingClassifier()\n",
    "cross_val_scores = cross_validate(gradientBooster_clf,X, y, cv=fold_count, scoring=output_matrix)\n",
    "gradientBooster_clf_score= meanResult(cross_val_scores)\n",
    "print(gradientBooster_clf_score)"
   ]
  },
  {
   "cell_type": "markdown",
   "id": "6ec4c2b7",
   "metadata": {},
   "source": [
    "## KNN"
   ]
  },
  {
   "cell_type": "code",
   "execution_count": 92,
   "id": "dca807a5",
   "metadata": {},
   "outputs": [
    {
     "name": "stdout",
     "output_type": "stream",
     "text": [
      "{'fit_time': 0.0051096916198730465, 'score_time': 0.3144343852996826, 'test_accuracy': 0.9496157528249858, 'test_recall': 0.9603719248231443, 'test_precision': 0.9498189232207725, 'test_f1': 0.9550281375346762}\n"
     ]
    }
   ],
   "source": [
    "KNeighbors_clf=KNeighborsClassifier(3)\n",
    "cross_val_scores = cross_validate(KNeighbors_clf, X, y, cv=fold_count, scoring=output_matrix)\n",
    "KNeighbors_clf_score = meanResult(cross_val_scores)\n",
    "print(KNeighbors_clf_score)"
   ]
  },
  {
   "cell_type": "markdown",
   "id": "099522cf",
   "metadata": {},
   "source": [
    "## linear"
   ]
  },
  {
   "cell_type": "code",
   "execution_count": 94,
   "id": "666b99eb",
   "metadata": {},
   "outputs": [
    {
     "name": "stdout",
     "output_type": "stream",
     "text": [
      "{'fit_time': 2.466252875328064, 'score_time': 0.07783284187316894, 'test_accuracy': 0.9285391897752285, 'test_recall': 0.9472133354450429, 'test_precision': 0.9262044404481848, 'test_f1': 0.93654689694447}\n"
     ]
    }
   ],
   "source": [
    "linear_clf = svm.SVC(kernel='linear')\n",
    "cross_val_scores = cross_validate(linear_clf, X, y, cv=fold_count, scoring=output_matrix)\n",
    "linear_svc_clf_score = meanResult(cross_val_scores)\n",
    "print(linear_svc_clf_score)\n",
    "\n"
   ]
  },
  {
   "cell_type": "code",
   "execution_count": null,
   "id": "e3a89820",
   "metadata": {},
   "outputs": [],
   "source": []
  }
 ],
 "metadata": {
  "kernelspec": {
   "display_name": "Python 3 (ipykernel)",
   "language": "python",
   "name": "python3"
  },
  "language_info": {
   "codemirror_mode": {
    "name": "ipython",
    "version": 3
   },
   "file_extension": ".py",
   "mimetype": "text/x-python",
   "name": "python",
   "nbconvert_exporter": "python",
   "pygments_lexer": "ipython3",
   "version": "3.9.12"
  }
 },
 "nbformat": 4,
 "nbformat_minor": 5
}
